{
 "cells": [
  {
   "cell_type": "code",
   "execution_count": 5,
   "metadata": {},
   "outputs": [
    {
     "name": "stdout",
     "output_type": "stream",
     "text": [
      "difPy preparing files: [460/460] [100%]\n",
      "difPy comparing images: [230/230] [100%]\n",
      "Found 0 pair(s) of duplicate image(s) in 5.6857 seconds.\n"
     ]
    }
   ],
   "source": [
    "from difPy import dif\n",
    "search = dif(r'D:/Pemrograman/Python/Project/google_image_scraper/Google-Image-Scraper/photos/new_dataset/ayam',fast_search=False)"
   ]
  },
  {
   "cell_type": "code",
   "execution_count": 7,
   "metadata": {},
   "outputs": [
    {
     "data": {
      "text/plain": [
       "{188200928550992117451474708924145419546: {'location': 'D:\\\\Pemrograman\\\\Python\\\\Project\\\\google_image_scraper\\\\Google-Image-Scraper\\\\photos\\\\food\\\\test\\\\sunnysideegg91.jpeg',\n",
       "  'matches': {74423889020540521067300968784213747091: {'location': 'D:\\\\Pemrograman\\\\Python\\\\Project\\\\google_image_scraper\\\\Google-Image-Scraper\\\\photos\\\\food\\\\train\\\\sunnysideegg110.jpeg',\n",
       "    'mse': 0.0}}}}"
      ]
     },
     "execution_count": 7,
     "metadata": {},
     "output_type": "execute_result"
    }
   ],
   "source": [
    "search.result"
   ]
  }
 ],
 "metadata": {
  "kernelspec": {
   "display_name": "base",
   "language": "python",
   "name": "python3"
  },
  "language_info": {
   "codemirror_mode": {
    "name": "ipython",
    "version": 3
   },
   "file_extension": ".py",
   "mimetype": "text/x-python",
   "name": "python",
   "nbconvert_exporter": "python",
   "pygments_lexer": "ipython3",
   "version": "3.9.7"
  },
  "orig_nbformat": 4
 },
 "nbformat": 4,
 "nbformat_minor": 2
}

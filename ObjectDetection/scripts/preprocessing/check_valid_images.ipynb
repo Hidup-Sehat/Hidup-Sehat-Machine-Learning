{
 "cells": [
  {
   "cell_type": "code",
   "execution_count": 1,
   "metadata": {},
   "outputs": [],
   "source": [
    "from PIL import Image     \n",
    "import os       \n",
    "path = 'D:/Pemrograman/Python/Project/google_image_scraper/Google-Image-Scraper/photos/food_sementara/train/' \n",
    "for file in os.listdir(path):      \n",
    "     extension = file.split('.')[-1]\n",
    "     if (extension == 'png') or (extension == 'jpg') or (extension == 'jpeg'):\n",
    "           fileLoc = path+file\n",
    "        #    print(fileLoc)\n",
    "           img = Image.open(fileLoc)\n",
    "           if img.mode != 'RGB':\n",
    "                 print(file+', '+img.mode)"
   ]
  }
 ],
 "metadata": {
  "kernelspec": {
   "display_name": "base",
   "language": "python",
   "name": "python3"
  },
  "language_info": {
   "codemirror_mode": {
    "name": "ipython",
    "version": 3
   },
   "file_extension": ".py",
   "mimetype": "text/x-python",
   "name": "python",
   "nbconvert_exporter": "python",
   "pygments_lexer": "ipython3",
   "version": "3.9.7"
  },
  "orig_nbformat": 4
 },
 "nbformat": 4,
 "nbformat_minor": 2
}

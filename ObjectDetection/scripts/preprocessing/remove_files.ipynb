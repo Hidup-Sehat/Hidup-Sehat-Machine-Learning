{
 "cells": [
  {
   "cell_type": "code",
   "execution_count": 13,
   "metadata": {},
   "outputs": [],
   "source": [
    "import os\n",
    "import glob\n",
    "import pandas as pd\n",
    "import shutil"
   ]
  },
  {
   "cell_type": "code",
   "execution_count": 14,
   "metadata": {},
   "outputs": [],
   "source": [
    "path = \"D:/Pemrograman/Python/Project/google_image_scraper/Google-Image-Scraper/datasets/food/simpanan\"\n",
    "\n",
    "xml_file_list = []\n",
    "for xml_file in glob.glob(path + '/*.xml'):\n",
    "    xml_file_list.append(xml_file)"
   ]
  },
  {
   "cell_type": "code",
   "execution_count": 9,
   "metadata": {},
   "outputs": [],
   "source": [
    "# for x in xml_file_list:\n",
    "#     print(x.replace('.xml','.JPEG'))\n",
    "#     shutil.move(x, r\"D:\\Pemrograman\\Python\\Project\\google_image_scraper\\Google-Image-Scraper\\photos\\testing\\kaggle\\input\\imagenet-object-localization-challenge\\ILSVRC\\train\")\n",
    "#     shutil.move(x.replace('.xml','.JPEG'), r\"D:\\Pemrograman\\Python\\Project\\google_image_scraper\\Google-Image-Scraper\\photos\\testing\\kaggle\\input\\imagenet-object-localization-challenge\\ILSVRC\\train\")"
   ]
  },
  {
   "cell_type": "code",
   "execution_count": 15,
   "metadata": {},
   "outputs": [],
   "source": [
    "target = ['n07614500','n07615774','n07693725','n07695742','n07697313','n07697537','n07711569','n07714571','n07714990','n07715103','n07720875','n07745940','n07747607','n07749582','n07753275','n07753592','n07754684','n07831146','n07873807','n12144580']"
   ]
  },
  {
   "cell_type": "code",
   "execution_count": 16,
   "metadata": {},
   "outputs": [
    {
     "data": {
      "text/plain": [
       "20"
      ]
     },
     "execution_count": 16,
     "metadata": {},
     "output_type": "execute_result"
    }
   ],
   "source": [
    "len(target)"
   ]
  },
  {
   "cell_type": "code",
   "execution_count": 12,
   "metadata": {},
   "outputs": [],
   "source": [
    "for i in target:\n",
    "    index = 1\n",
    "    # print(i)\n",
    "    # print(index)\n",
    "    for x in xml_file_list:\n",
    "        if index <= 25:\n",
    "            if i in x:\n",
    "                index += 1\n",
    "                shutil.move(x, \"D:/Pemrograman/Python/Project/google_image_scraper/Google-Image-Scraper/datasets/food/test\")\n",
    "                shutil.move(x.replace('.xml','.JPEG'), \"D:/Pemrograman/Python/Project/google_image_scraper/Google-Image-Scraper/datasets/food/test\")\n",
    "        else:\n",
    "            break"
   ]
  },
  {
   "cell_type": "code",
   "execution_count": null,
   "metadata": {},
   "outputs": [],
   "source": [
    "for x in xml_file_list:\n",
    "    print(x.replace('.xml','.JPEG'))\n",
    "    shutil.move(x, r\"D:\\Pemrograman\\Python\\Project\\google_image_scraper\\Google-Image-Scraper\\photos\\testing\\kaggle\\input\\imagenet-object-localization-challenge\\ILSVRC\\train\")\n",
    "    shutil.move(x.replace('.xml','.JPEG'), r\"D:\\Pemrograman\\Python\\Project\\google_image_scraper\\Google-Image-Scraper\\photos\\testing\\kaggle\\input\\imagenet-object-localization-challenge\\ILSVRC\\train\")"
   ]
  }
 ],
 "metadata": {
  "kernelspec": {
   "display_name": "base",
   "language": "python",
   "name": "python3"
  },
  "language_info": {
   "codemirror_mode": {
    "name": "ipython",
    "version": 3
   },
   "file_extension": ".py",
   "mimetype": "text/x-python",
   "name": "python",
   "nbconvert_exporter": "python",
   "pygments_lexer": "ipython3",
   "version": "3.9.7"
  },
  "orig_nbformat": 4
 },
 "nbformat": 4,
 "nbformat_minor": 2
}

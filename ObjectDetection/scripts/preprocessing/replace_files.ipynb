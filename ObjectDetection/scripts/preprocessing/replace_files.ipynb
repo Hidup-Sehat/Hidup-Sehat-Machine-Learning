{
 "cells": [
  {
   "cell_type": "code",
   "execution_count": 1,
   "metadata": {},
   "outputs": [],
   "source": [
    "import os\n",
    "import glob\n",
    "import pandas as pd\n",
    "import io\n",
    "import xml.etree.ElementTree as ET\n",
    "import argparse\n",
    "from collections import Counter"
   ]
  },
  {
   "cell_type": "code",
   "execution_count": 2,
   "metadata": {},
   "outputs": [],
   "source": [
    "list_classes = []\n",
    "total_img = 0"
   ]
  },
  {
   "cell_type": "code",
   "execution_count": 3,
   "metadata": {},
   "outputs": [],
   "source": [
    "path_1 = r\"D:\\Pemrograman\\Python\\Project\\google_image_scraper\\Google-Image-Scraper\\photos\\food\\train\"\n",
    "# path_2 = r\"D:\\Pemrograman\\Python\\Project\\google_image_scraper\\Google-Image-Scraper\\photos\\nasi kotak indonesia\"\n",
    "# path_3 = r\"D:\\Pemrograman\\Python\\Project\\google_image_scraper\\Google-Image-Scraper\\photos\\makan nasi pake tempe\"\n",
    "# os.chdir(path)\n",
    "for xml_file in glob.glob(path_1 + '/*.xml'):\n",
    "    total_img +=1\n",
    "    file_names = xml_file.split('\\\\')[1]\n",
    "    tree = ET.parse(xml_file)\n",
    "    root = tree.getroot()\n",
    "    filename = root.find('filename').text\n",
    "    for member in root.findall('object'):\n",
    "        list_classes.append(member.find('name').text)"
   ]
  },
  {
   "cell_type": "code",
   "execution_count": 4,
   "metadata": {},
   "outputs": [
    {
     "data": {
      "text/plain": [
       "1802"
      ]
     },
     "execution_count": 4,
     "metadata": {},
     "output_type": "execute_result"
    }
   ],
   "source": [
    "total_img"
   ]
  },
  {
   "cell_type": "code",
   "execution_count": 5,
   "metadata": {},
   "outputs": [
    {
     "data": {
      "text/plain": [
       "Counter({'ayam': 762,\n",
       "         'tahu': 497,\n",
       "         'tomat': 370,\n",
       "         'Sugar Glazed': 1198,\n",
       "         'Boston Cream': 872,\n",
       "         'Strawberry Frosted': 824,\n",
       "         'Chocolate Frosted': 848,\n",
       "         'timun': 832,\n",
       "         'telor dadar': 34,\n",
       "         'nasi': 374,\n",
       "         'tempe': 520,\n",
       "         'telor asin': 250,\n",
       "         'telor balado': 219,\n",
       "         'telor ceplok': 210,\n",
       "         'mie': 143,\n",
       "         'roti': 4})"
      ]
     },
     "execution_count": 5,
     "metadata": {},
     "output_type": "execute_result"
    }
   ],
   "source": [
    "Counter(list_classes)"
   ]
  }
 ],
 "metadata": {
  "kernelspec": {
   "display_name": "base",
   "language": "python",
   "name": "python3"
  },
  "language_info": {
   "codemirror_mode": {
    "name": "ipython",
    "version": 3
   },
   "file_extension": ".py",
   "mimetype": "text/x-python",
   "name": "python",
   "nbconvert_exporter": "python",
   "pygments_lexer": "ipython3",
   "version": "3.9.7"
  },
  "orig_nbformat": 4
 },
 "nbformat": 4,
 "nbformat_minor": 2
}

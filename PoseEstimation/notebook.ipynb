{
 "cells": [
  {
   "cell_type": "code",
   "execution_count": 1,
   "metadata": {},
   "outputs": [],
   "source": [
    "import tensorflow as tf\n",
    "import tensorflow_hub as hub\n",
    "from tensorflow_docs.vis import embed\n",
    "import numpy as np\n",
    "import cv2\n",
    "\n",
    "# Import matplotlib libraries\n",
    "from matplotlib import pyplot as plt\n",
    "from matplotlib.collections import LineCollection\n",
    "import matplotlib.patches as patches\n",
    "\n",
    "# Some modules to display an animation using imageio.\n",
    "import imageio\n",
    "from IPython.display import HTML, display\n",
    "import pandas as pd"
   ]
  },
  {
   "cell_type": "code",
   "execution_count": 4,
   "metadata": {},
   "outputs": [],
   "source": [
    "# Import TF and TF Hub libraries.\n",
    "import tensorflow as tf\n",
    "import tensorflow_hub as hub\n",
    "\n",
    "# Load the input image.\n",
    "image_path = r'D:\\Pemrograman\\Python\\Project\\Pose Estimation\\poses_images_out_train\\adho mukha svanasana\\1. 1.png'\n",
    "image = tf.io.read_file(image_path)\n",
    "image = tf.compat.v1.image.decode_jpeg(image)[:,:,:3]\n",
    "image = tf.expand_dims(image, axis=0)\n",
    "# Resize and pad the image to keep the aspect ratio and fit the expected size.\n",
    "image = tf.cast(tf.image.resize_with_pad(image, 192, 192), dtype=tf.int32)\n",
    "\n",
    "# Download the model from TF Hub.\n",
    "model = hub.load(\"https://tfhub.dev/google/movenet/singlepose/lightning/4\")\n",
    "movenet = model.signatures['serving_default']\n",
    "\n",
    "# Run model inference.\n",
    "outputs = movenet(image)\n",
    "# Output is a [1, 1, 17, 3] tensor.\n",
    "keypoints = outputs['output_0']\n"
   ]
  },
  {
   "cell_type": "code",
   "execution_count": 5,
   "metadata": {},
   "outputs": [],
   "source": [
    "# 17 keypoints in the model output\n",
    "kp_descriptions = [\n",
    "    'nose', 'left_eye', 'right_eye', 'left_ear', 'right_ear',\n",
    "    'left_shoulder', 'right_shoulder', 'left_elbow', 'right_elbow',\n",
    "    'left_wrist', 'right_wrist', 'left_hip', 'right_hip',\n",
    "    'left_knee', 'right_knee', 'left_ankle', 'right_ankle'\n",
    "]\n",
    "# Rename columns in the DataFrames according to the values\n",
    "columns = []\n",
    "for point in kp_descriptions:\n",
    "    for value in ('y', 'x', 'score'):\n",
    "        columns.append(f'{point}_{value}')"
   ]
  },
  {
   "cell_type": "code",
   "execution_count": 6,
   "metadata": {},
   "outputs": [
    {
     "data": {
      "text/html": [
       "<div>\n",
       "<style scoped>\n",
       "    .dataframe tbody tr th:only-of-type {\n",
       "        vertical-align: middle;\n",
       "    }\n",
       "\n",
       "    .dataframe tbody tr th {\n",
       "        vertical-align: top;\n",
       "    }\n",
       "\n",
       "    .dataframe thead th {\n",
       "        text-align: right;\n",
       "    }\n",
       "</style>\n",
       "<table border=\"1\" class=\"dataframe\">\n",
       "  <thead>\n",
       "    <tr style=\"text-align: right;\">\n",
       "      <th></th>\n",
       "      <th>nose_y</th>\n",
       "      <th>nose_x</th>\n",
       "      <th>nose_score</th>\n",
       "      <th>left_eye_y</th>\n",
       "      <th>left_eye_x</th>\n",
       "      <th>left_eye_score</th>\n",
       "      <th>right_eye_y</th>\n",
       "      <th>right_eye_x</th>\n",
       "      <th>right_eye_score</th>\n",
       "      <th>left_ear_y</th>\n",
       "      <th>...</th>\n",
       "      <th>left_knee_score</th>\n",
       "      <th>right_knee_y</th>\n",
       "      <th>right_knee_x</th>\n",
       "      <th>right_knee_score</th>\n",
       "      <th>left_ankle_y</th>\n",
       "      <th>left_ankle_x</th>\n",
       "      <th>left_ankle_score</th>\n",
       "      <th>right_ankle_y</th>\n",
       "      <th>right_ankle_x</th>\n",
       "      <th>right_ankle_score</th>\n",
       "    </tr>\n",
       "  </thead>\n",
       "  <tbody>\n",
       "    <tr>\n",
       "      <th>0</th>\n",
       "      <td>0.580765</td>\n",
       "      <td>0.427303</td>\n",
       "      <td>0.675039</td>\n",
       "      <td>0.579229</td>\n",
       "      <td>0.412077</td>\n",
       "      <td>0.47334</td>\n",
       "      <td>0.58186</td>\n",
       "      <td>0.412161</td>\n",
       "      <td>0.524445</td>\n",
       "      <td>0.544553</td>\n",
       "      <td>...</td>\n",
       "      <td>0.677413</td>\n",
       "      <td>0.497728</td>\n",
       "      <td>0.70222</td>\n",
       "      <td>0.804713</td>\n",
       "      <td>0.646824</td>\n",
       "      <td>0.821644</td>\n",
       "      <td>0.755961</td>\n",
       "      <td>0.623078</td>\n",
       "      <td>0.783787</td>\n",
       "      <td>0.604527</td>\n",
       "    </tr>\n",
       "  </tbody>\n",
       "</table>\n",
       "<p>1 rows × 51 columns</p>\n",
       "</div>"
      ],
      "text/plain": [
       "     nose_y    nose_x  nose_score  left_eye_y  left_eye_x  left_eye_score  \\\n",
       "0  0.580765  0.427303    0.675039    0.579229    0.412077         0.47334   \n",
       "\n",
       "   right_eye_y  right_eye_x  right_eye_score  left_ear_y  ...  \\\n",
       "0      0.58186     0.412161         0.524445    0.544553  ...   \n",
       "\n",
       "   left_knee_score  right_knee_y  right_knee_x  right_knee_score  \\\n",
       "0         0.677413      0.497728       0.70222          0.804713   \n",
       "\n",
       "   left_ankle_y  left_ankle_x  left_ankle_score  right_ankle_y  right_ankle_x  \\\n",
       "0      0.646824      0.821644          0.755961       0.623078       0.783787   \n",
       "\n",
       "   right_ankle_score  \n",
       "0           0.604527  \n",
       "\n",
       "[1 rows x 51 columns]"
      ]
     },
     "execution_count": 6,
     "metadata": {},
     "output_type": "execute_result"
    }
   ],
   "source": [
    "pd.DataFrame(np.array(keypoints[0][0]).flatten().reshape(1,-1),columns = columns)"
   ]
  },
  {
   "cell_type": "code",
   "execution_count": 11,
   "metadata": {},
   "outputs": [
    {
     "name": "stdout",
     "output_type": "stream",
     "text": [
      "A: [0.58076525 0.42730328 0.67503864 0.5792289  0.41207743 0.47333997\n",
      " 0.58185965 0.41216052 0.52444524 0.5445528  0.39484406 0.45617175\n",
      " 0.5446289  0.3936121  0.46745512 0.5016635  0.4046818  0.7063899\n",
      " 0.49563456 0.40258092 0.54718405 0.60904396 0.34574008 0.7440503\n",
      " 0.5912181  0.34356624 0.6541515  0.70214546 0.26372153 0.9110583\n",
      " 0.6600009  0.27307063 0.38330933 0.32035175 0.6203919  0.61942005\n",
      " 0.32266206 0.60961163 0.76251876 0.4952395  0.7256286  0.6774133\n",
      " 0.4977281  0.70222014 0.80471295 0.6468238  0.8216442  0.75596136\n",
      " 0.62307787 0.78378725 0.60452706]\n",
      "B: [0.5749743  0.42486113 0.54318196 0.57792485 0.40930325 0.5496756\n",
      " 0.5782155  0.40489376 0.57750416 0.5340253  0.38575894 0.5966261\n",
      " 0.5361736  0.37668896 0.54088706 0.50579745 0.43160397 0.6138604\n",
      " 0.48600656 0.37216204 0.6575917  0.63704824 0.33847758 0.64200926\n",
      " 0.587188   0.31143132 0.7014244  0.72440684 0.2353007  0.6007997\n",
      " 0.6784536  0.23021728 0.51602674 0.30333444 0.6349661  0.74985135\n",
      " 0.31460917 0.60921407 0.68592465 0.47325823 0.77171266 0.6738131\n",
      " 0.48240095 0.73322797 0.8058868  0.6358363  0.84106433 0.6906332\n",
      " 0.6143594  0.7967786  0.7987496 ]\n",
      "Cosine Similarity: 0.9919049110457753\n"
     ]
    }
   ],
   "source": [
    "# import required libraries\n",
    "import numpy as np\n",
    "from numpy.linalg import norm\n",
    " \n",
    "# define two lists or array\n",
    "A = np.array([0.58076525, 0.42730328, 0.67503864, 0.5792289 , 0.41207743,\n",
    "       0.47333997, 0.58185965, 0.41216052, 0.52444524, 0.5445528 ,\n",
    "       0.39484406, 0.45617175, 0.5446289 , 0.3936121 , 0.46745512,\n",
    "       0.5016635 , 0.4046818 , 0.7063899 , 0.49563456, 0.40258092,\n",
    "       0.54718405, 0.60904396, 0.34574008, 0.7440503 , 0.5912181 ,\n",
    "       0.34356624, 0.6541515 , 0.70214546, 0.26372153, 0.9110583 ,\n",
    "       0.6600009 , 0.27307063, 0.38330933, 0.32035175, 0.6203919 ,\n",
    "       0.61942005, 0.32266206, 0.60961163, 0.76251876, 0.4952395 ,\n",
    "       0.7256286 , 0.6774133 , 0.4977281 , 0.70222014, 0.80471295,\n",
    "       0.6468238 , 0.8216442 , 0.75596136, 0.62307787, 0.78378725,\n",
    "       0.60452706])\n",
    "\n",
    "B = np.array([0.5749743 , 0.42486113, 0.54318196, 0.57792485, 0.40930325,\n",
    "       0.5496756 , 0.5782155 , 0.40489376, 0.57750416, 0.5340253 ,\n",
    "       0.38575894, 0.5966261 , 0.5361736 , 0.37668896, 0.54088706,\n",
    "       0.50579745, 0.43160397, 0.6138604 , 0.48600656, 0.37216204,\n",
    "       0.6575917 , 0.63704824, 0.33847758, 0.64200926, 0.587188  ,\n",
    "       0.31143132, 0.7014244 , 0.72440684, 0.2353007 , 0.6007997 ,\n",
    "       0.6784536 , 0.23021728, 0.51602674, 0.30333444, 0.6349661 ,\n",
    "       0.74985135, 0.31460917, 0.60921407, 0.68592465, 0.47325823,\n",
    "       0.77171266, 0.6738131 , 0.48240095, 0.73322797, 0.8058868 ,\n",
    "       0.6358363 , 0.84106433, 0.6906332 , 0.6143594 , 0.7967786 ,\n",
    "       0.7987496 ])\n",
    " \n",
    "print(\"A:\", A)\n",
    "print(\"B:\", B)\n",
    " \n",
    "# compute cosine similarity\n",
    "cosine = np.dot(A,B)/(norm(A)*norm(B))\n",
    "print(\"Cosine Similarity:\", cosine)"
   ]
  },
  {
   "cell_type": "code",
   "execution_count": 7,
   "metadata": {},
   "outputs": [
    {
     "data": {
      "text/plain": [
       "array([[0.58076525, 0.42730328, 0.67503864, 0.5792289 , 0.41207743,\n",
       "        0.47333997, 0.58185965, 0.41216052, 0.52444524, 0.5445528 ,\n",
       "        0.39484406, 0.45617175, 0.5446289 , 0.3936121 , 0.46745512,\n",
       "        0.5016635 , 0.4046818 , 0.7063899 , 0.49563456, 0.40258092,\n",
       "        0.54718405, 0.60904396, 0.34574008, 0.7440503 , 0.5912181 ,\n",
       "        0.34356624, 0.6541515 , 0.70214546, 0.26372153, 0.9110583 ,\n",
       "        0.6600009 , 0.27307063, 0.38330933, 0.32035175, 0.6203919 ,\n",
       "        0.61942005, 0.32266206, 0.60961163, 0.76251876, 0.4952395 ,\n",
       "        0.7256286 , 0.6774133 , 0.4977281 , 0.70222014, 0.80471295,\n",
       "        0.6468238 , 0.8216442 , 0.75596136, 0.62307787, 0.78378725,\n",
       "        0.60452706]], dtype=float32)"
      ]
     },
     "execution_count": 7,
     "metadata": {},
     "output_type": "execute_result"
    }
   ],
   "source": [
    "np.array(keypoints[0][0]).flatten().reshape(1,-1)"
   ]
  }
 ],
 "metadata": {
  "kernelspec": {
   "display_name": "base",
   "language": "python",
   "name": "python3"
  },
  "language_info": {
   "codemirror_mode": {
    "name": "ipython",
    "version": 3
   },
   "file_extension": ".py",
   "mimetype": "text/x-python",
   "name": "python",
   "nbconvert_exporter": "python",
   "pygments_lexer": "ipython3",
   "version": "3.9.7"
  },
  "orig_nbformat": 4
 },
 "nbformat": 4,
 "nbformat_minor": 2
}
